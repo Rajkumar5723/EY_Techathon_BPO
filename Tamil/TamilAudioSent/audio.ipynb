{
 "cells": [
  {
   "cell_type": "code",
   "execution_count": 1,
   "metadata": {},
   "outputs": [],
   "source": [
    "import torch\n",
    "import torch.nn as nn\n",
    "import torch.optim as optim\n",
    "from torch.utils.data import DataLoader, Dataset\n",
    "import numpy as np\n",
    "import os\n",
    "from sklearn.preprocessing import LabelEncoder\n",
    "import joblib"
   ]
  },
  {
   "cell_type": "code",
   "execution_count": 2,
   "metadata": {},
   "outputs": [],
   "source": [
    "class Generator(nn.Module):\n",
    "    def __init__(self, noise_dim, num_classes, feature_dim):\n",
    "        super(Generator, self).__init__()\n",
    "        self.label_embedding = nn.Embedding(num_classes, num_classes)\n",
    "        self.model = nn.Sequential(\n",
    "            nn.Linear(noise_dim + num_classes, 128),\n",
    "            nn.LeakyReLU(0.2, inplace=True),\n",
    "            nn.Linear(128, 256),\n",
    "            nn.BatchNorm1d(256),\n",
    "            nn.LeakyReLU(0.2, inplace=True),\n",
    "            nn.Linear(256, 512),\n",
    "            nn.BatchNorm1d(512),\n",
    "            nn.LeakyReLU(0.2, inplace=True),\n",
    "            nn.Linear(512, feature_dim),\n",
    "        )\n",
    "\n",
    "    def forward(self, noise, labels):\n",
    "        label_input = self.label_embedding(labels)\n",
    "        input = torch.cat((noise, label_input), -1)\n",
    "        return self.model(input)\n",
    "\n",
    "class Discriminator(nn.Module):\n",
    "    def __init__(self, num_classes, feature_dim):\n",
    "        super(Discriminator, self).__init__()\n",
    "        self.label_embedding = nn.Embedding(num_classes, num_classes)\n",
    "        input_dim = feature_dim + num_classes  \n",
    "        self.model = nn.Sequential(\n",
    "            nn.Linear(input_dim, 512),\n",
    "            nn.LeakyReLU(0.2, inplace=True),\n",
    "            nn.Linear(512, 256),\n",
    "            nn.LeakyReLU(0.2, inplace=True),\n",
    "            nn.Linear(256, 128),\n",
    "            nn.LeakyReLU(0.2, inplace=True),\n",
    "            nn.Linear(128, 1),\n",
    "            nn.Sigmoid()\n",
    "        )\n",
    "\n",
    "    def forward(self, features, labels):\n",
    "        label_input = self.label_embedding(labels)\n",
    "        input = torch.cat((features, label_input), -1)\n",
    "        return self.model(input)"
   ]
  },
  {
   "cell_type": "code",
   "execution_count": 3,
   "metadata": {},
   "outputs": [],
   "source": [
    "class EmotionDataset(Dataset):\n",
    "    def __init__(self, features, labels):\n",
    "        self.features = features\n",
    "        self.labels = labels\n",
    "\n",
    "    def __len__(self):\n",
    "        return len(self.features)\n",
    "\n",
    "    def __getitem__(self, idx):\n",
    "        return torch.tensor(self.features[idx], dtype=torch.float32), torch.tensor(self.labels[idx], dtype=torch.long)"
   ]
  },
  {
   "cell_type": "code",
   "execution_count": 4,
   "metadata": {},
   "outputs": [],
   "source": [
    "def train_gan(generator, discriminator, dataloader, epochs, noise_dim, num_classes):\n",
    "    optimizer_G = optim.Adam(generator.parameters(), lr=0.0002, betas=(0.5, 0.999))\n",
    "    optimizer_D = optim.Adam(discriminator.parameters(), lr=0.0002, betas=(0.5, 0.999))\n",
    "    adversarial_loss = nn.BCELoss()\n",
    "\n",
    "    for epoch in range(epochs):\n",
    "        for features, labels in dataloader:\n",
    "            batch_size = features.size(0)\n",
    "\n",
    "            valid = torch.ones(batch_size, 1)\n",
    "            fake = torch.zeros(batch_size, 1)\n",
    "\n",
    "            optimizer_D.zero_grad()\n",
    "\n",
    "\n",
    "            real_loss = adversarial_loss(discriminator(features, labels), valid)\n",
    "\n",
    "\n",
    "            noise = torch.randn(batch_size, noise_dim)\n",
    "            gen_labels = torch.randint(0, num_classes, (batch_size,))\n",
    "            fake_features = generator(noise, gen_labels)\n",
    "            fake_loss = adversarial_loss(discriminator(fake_features.detach(), gen_labels), fake)\n",
    "\n",
    "            d_loss = (real_loss + fake_loss) / 2\n",
    "            d_loss.backward()\n",
    "            optimizer_D.step()\n",
    "\n",
    "            optimizer_G.zero_grad()\n",
    "\n",
    "            gen_features = generator(noise, gen_labels)\n",
    "            g_loss = adversarial_loss(discriminator(gen_features, gen_labels), valid)\n",
    "\n",
    "            g_loss.backward()\n",
    "            optimizer_G.step()\n",
    "\n",
    "        print(f\"Epoch {epoch+1}/{epochs}, D Loss: {d_loss.item():.4f}, G Loss: {g_loss.item():.4f}\")"
   ]
  },
  {
   "cell_type": "code",
   "execution_count": 5,
   "metadata": {},
   "outputs": [],
   "source": [
    "def extract_features(file_path, sr=16000):\n",
    "    import librosa\n",
    "    y, sr = librosa.load(file_path, sr=sr)\n",
    "    mfccs = librosa.feature.mfcc(y=y, sr=sr, n_mfcc=13)\n",
    "    chroma = librosa.feature.chroma_stft(y=y, sr=sr)\n",
    "    mel = librosa.feature.melspectrogram(y=y, sr=sr)\n",
    "    contrast = librosa.feature.spectral_contrast(y=y, sr=sr)\n",
    "    tonnetz = librosa.feature.tonnetz(y=librosa.effects.harmonic(y), sr=sr)\n",
    "\n",
    "    features = np.hstack([\n",
    "        np.mean(mfccs, axis=1), np.std(mfccs, axis=1),\n",
    "        np.mean(chroma, axis=1), np.std(chroma, axis=1),\n",
    "        np.mean(mel, axis=1), np.std(mel, axis=1),\n",
    "        np.mean(contrast, axis=1), np.std(contrast, axis=1),\n",
    "        np.mean(tonnetz, axis=1), np.std(tonnetz, axis=1)\n",
    "    ])\n",
    "    return features"
   ]
  },
  {
   "cell_type": "code",
   "execution_count": 6,
   "metadata": {},
   "outputs": [],
   "source": [
    "def load_dataset(dataset_paths):\n",
    "    features = []\n",
    "    labels = []\n",
    "    for label, folder in dataset_paths.items():\n",
    "        for file_name in os.listdir(folder):\n",
    "            file_path = os.path.join(folder, file_name)\n",
    "            try:\n",
    "                feature_vector = extract_features(file_path)\n",
    "                features.append(feature_vector)\n",
    "                labels.append(label)\n",
    "            except Exception as e:\n",
    "                print(f\"Error processing {file_name}: {e}\")\n",
    "    return np.array(features), np.array(labels)"
   ]
  },
  {
   "cell_type": "code",
   "execution_count": 7,
   "metadata": {},
   "outputs": [],
   "source": [
    "def predict_emotion_gan(audio_path, discriminator, label_encoder):\n",
    "\n",
    "    features = extract_features(audio_path)\n",
    "    features = torch.tensor(features, dtype=torch.float32).unsqueeze(0)\n",
    "    num_classes = len(label_encoder.classes_)\n",
    "\n",
    "    probabilities = []\n",
    "    for emotion_label in range(num_classes):\n",
    "        label_tensor = torch.tensor([emotion_label], dtype=torch.long)\n",
    "        prob = discriminator(features, label_tensor).item()  \n",
    "        probabilities.append(prob)\n",
    "\n",
    "    predicted_label_index = np.argmax(probabilities)\n",
    "    predicted_emotion = label_encoder.inverse_transform([predicted_label_index])[0]\n",
    "\n",
    "    return predicted_emotion"
   ]
  },
  {
   "cell_type": "code",
   "execution_count": 8,
   "metadata": {},
   "outputs": [],
   "source": [
    "DATASET_PATHS = {\n",
    "    \"angry\": r\"C:\\\\Users\\\\lenovo\\\\Desktop\\\\model\\\\Tamil\\\\TamilAudioSent\\\\final_data\\\\angry\",\n",
    "    \"fear\": r\"C:\\\\Users\\\\lenovo\\\\Desktop\\\\model\\\\Tamil\\\\TamilAudioSent\\\\final_data\\\\fear\",\n",
    "    \"happy\": r\"C:\\\\Users\\\\lenovo\\\\Desktop\\\\model\\\\Tamil\\\\TamilAudioSent\\\\final_data\\\\happy\",\n",
    "    \"neutral\": r\"C:\\\\Users\\\\lenovo\\\\Desktop\\\\model\\\\Tamil\\\\TamilAudioSent\\\\final_data\\\\neutral\",\n",
    "    \"sad\": r\"C:\\\\Users\\\\lenovo\\\\Desktop\\\\new\\\\model\\\\TamilAudioSent\\\\final_data\\\\sad\",\n",
    "}"
   ]
  },
  {
   "cell_type": "code",
   "execution_count": 9,
   "metadata": {},
   "outputs": [],
   "source": [
    "\n",
    "X, y = load_dataset(DATASET_PATHS)\n",
    "label_encoder = LabelEncoder()\n",
    "y = label_encoder.fit_transform(y)"
   ]
  },
  {
   "cell_type": "code",
   "execution_count": 10,
   "metadata": {},
   "outputs": [
    {
     "data": {
      "text/plain": [
       "['label_encoder.pkl']"
      ]
     },
     "execution_count": 10,
     "metadata": {},
     "output_type": "execute_result"
    }
   ],
   "source": [
    "joblib.dump(label_encoder, \"label_encoder.pkl\")"
   ]
  },
  {
   "cell_type": "code",
   "execution_count": 11,
   "metadata": {},
   "outputs": [
    {
     "name": "stdout",
     "output_type": "stream",
     "text": [
      "Epoch 1/100, D Loss: 0.3763, G Loss: 0.6566\n",
      "Epoch 2/100, D Loss: 0.3634, G Loss: 0.6808\n",
      "Epoch 3/100, D Loss: 0.3425, G Loss: 0.7283\n",
      "Epoch 4/100, D Loss: 0.3323, G Loss: 0.7542\n",
      "Epoch 5/100, D Loss: 0.3303, G Loss: 0.7668\n",
      "Epoch 6/100, D Loss: 0.3178, G Loss: 0.8122\n",
      "Epoch 7/100, D Loss: 0.3085, G Loss: 0.8479\n",
      "Epoch 8/100, D Loss: 0.3148, G Loss: 0.8499\n",
      "Epoch 9/100, D Loss: 0.2849, G Loss: 0.9621\n",
      "Epoch 10/100, D Loss: 0.3423, G Loss: 0.8491\n",
      "Epoch 11/100, D Loss: 0.3046, G Loss: 0.9864\n",
      "Epoch 12/100, D Loss: 0.2954, G Loss: 1.0201\n",
      "Epoch 13/100, D Loss: 0.4481, G Loss: 0.6422\n",
      "Epoch 14/100, D Loss: 0.2778, G Loss: 0.9533\n",
      "Epoch 15/100, D Loss: 0.2697, G Loss: 1.1096\n",
      "Epoch 16/100, D Loss: 0.2216, G Loss: 1.2962\n",
      "Epoch 17/100, D Loss: 0.2249, G Loss: 1.2319\n",
      "Epoch 18/100, D Loss: 0.2144, G Loss: 1.3079\n",
      "Epoch 19/100, D Loss: 0.2366, G Loss: 1.1507\n",
      "Epoch 20/100, D Loss: 0.2839, G Loss: 1.1802\n",
      "Epoch 21/100, D Loss: 0.1263, G Loss: 1.9516\n",
      "Epoch 22/100, D Loss: 0.2196, G Loss: 1.4325\n",
      "Epoch 23/100, D Loss: 0.1307, G Loss: 2.0623\n",
      "Epoch 24/100, D Loss: 0.1352, G Loss: 1.8146\n",
      "Epoch 25/100, D Loss: 0.1454, G Loss: 2.0378\n",
      "Epoch 26/100, D Loss: 0.1412, G Loss: 2.0469\n",
      "Epoch 27/100, D Loss: 0.0950, G Loss: 2.5037\n",
      "Epoch 28/100, D Loss: 0.2815, G Loss: 1.0681\n",
      "Epoch 29/100, D Loss: 0.0718, G Loss: 2.4418\n",
      "Epoch 30/100, D Loss: 0.1388, G Loss: 2.0474\n",
      "Epoch 31/100, D Loss: 0.1798, G Loss: 1.0737\n",
      "Epoch 32/100, D Loss: 0.0359, G Loss: 3.3167\n",
      "Epoch 33/100, D Loss: 0.0632, G Loss: 2.7898\n",
      "Epoch 34/100, D Loss: 0.0594, G Loss: 3.0287\n",
      "Epoch 35/100, D Loss: 0.0689, G Loss: 2.4219\n",
      "Epoch 36/100, D Loss: 0.0266, G Loss: 3.2497\n",
      "Epoch 37/100, D Loss: 0.2301, G Loss: 2.0628\n",
      "Epoch 38/100, D Loss: 0.0377, G Loss: 3.3391\n",
      "Epoch 39/100, D Loss: 0.1104, G Loss: 2.8983\n",
      "Epoch 40/100, D Loss: 0.0452, G Loss: 3.2257\n",
      "Epoch 41/100, D Loss: 0.0685, G Loss: 2.9957\n",
      "Epoch 42/100, D Loss: 0.0233, G Loss: 3.9134\n",
      "Epoch 43/100, D Loss: 0.0798, G Loss: 2.6553\n",
      "Epoch 44/100, D Loss: 0.0201, G Loss: 3.5903\n",
      "Epoch 45/100, D Loss: 0.1015, G Loss: 3.7503\n",
      "Epoch 46/100, D Loss: 0.0315, G Loss: 4.2716\n",
      "Epoch 47/100, D Loss: 0.0355, G Loss: 3.5542\n",
      "Epoch 48/100, D Loss: 0.0503, G Loss: 3.9319\n",
      "Epoch 49/100, D Loss: 0.0980, G Loss: 2.5207\n",
      "Epoch 50/100, D Loss: 0.0196, G Loss: 4.0587\n",
      "Epoch 51/100, D Loss: 0.0415, G Loss: 3.8847\n",
      "Epoch 52/100, D Loss: 0.0104, G Loss: 4.6573\n",
      "Epoch 53/100, D Loss: 0.0845, G Loss: 4.4629\n",
      "Epoch 54/100, D Loss: 0.3221, G Loss: 2.7628\n",
      "Epoch 55/100, D Loss: 0.1853, G Loss: 4.3023\n",
      "Epoch 56/100, D Loss: 0.0461, G Loss: 3.7146\n",
      "Epoch 57/100, D Loss: 0.0142, G Loss: 4.6686\n",
      "Epoch 58/100, D Loss: 0.0831, G Loss: 4.9917\n",
      "Epoch 59/100, D Loss: 0.0173, G Loss: 4.0997\n",
      "Epoch 60/100, D Loss: 0.0646, G Loss: 3.6325\n",
      "Epoch 61/100, D Loss: 0.0296, G Loss: 4.0833\n",
      "Epoch 62/100, D Loss: 0.0632, G Loss: 4.7053\n",
      "Epoch 63/100, D Loss: 0.0308, G Loss: 3.6044\n",
      "Epoch 64/100, D Loss: 0.0069, G Loss: 5.2806\n",
      "Epoch 65/100, D Loss: 0.1299, G Loss: 4.3599\n",
      "Epoch 66/100, D Loss: 0.0274, G Loss: 3.8512\n",
      "Epoch 67/100, D Loss: 0.0637, G Loss: 4.6052\n",
      "Epoch 68/100, D Loss: 0.0484, G Loss: 4.5298\n",
      "Epoch 69/100, D Loss: 0.2225, G Loss: 4.4800\n",
      "Epoch 70/100, D Loss: 0.0109, G Loss: 5.2476\n",
      "Epoch 71/100, D Loss: 0.4306, G Loss: 3.5721\n",
      "Epoch 72/100, D Loss: 0.0357, G Loss: 4.9812\n",
      "Epoch 73/100, D Loss: 0.0561, G Loss: 5.3755\n",
      "Epoch 74/100, D Loss: 0.1729, G Loss: 4.6185\n",
      "Epoch 75/100, D Loss: 0.0245, G Loss: 4.9302\n",
      "Epoch 76/100, D Loss: 0.1259, G Loss: 2.5888\n",
      "Epoch 77/100, D Loss: 0.0095, G Loss: 5.6214\n",
      "Epoch 78/100, D Loss: 0.1895, G Loss: 2.8262\n",
      "Epoch 79/100, D Loss: 0.0357, G Loss: 4.4223\n",
      "Epoch 80/100, D Loss: 0.2301, G Loss: 1.1400\n",
      "Epoch 81/100, D Loss: 0.2720, G Loss: 1.4401\n",
      "Epoch 82/100, D Loss: 0.0863, G Loss: 3.0510\n",
      "Epoch 83/100, D Loss: 0.1030, G Loss: 4.4604\n",
      "Epoch 84/100, D Loss: 0.0143, G Loss: 4.3176\n",
      "Epoch 85/100, D Loss: 0.0178, G Loss: 3.9553\n",
      "Epoch 86/100, D Loss: 0.1092, G Loss: 3.5912\n",
      "Epoch 87/100, D Loss: 0.0114, G Loss: 4.9261\n",
      "Epoch 88/100, D Loss: 0.0117, G Loss: 4.8587\n",
      "Epoch 89/100, D Loss: 0.0301, G Loss: 4.1938\n",
      "Epoch 90/100, D Loss: 0.0021, G Loss: 5.4015\n",
      "Epoch 91/100, D Loss: 0.0166, G Loss: 6.7325\n",
      "Epoch 92/100, D Loss: 0.0003, G Loss: 8.0703\n",
      "Epoch 93/100, D Loss: 0.0091, G Loss: 5.2514\n",
      "Epoch 94/100, D Loss: 0.0266, G Loss: 5.4137\n",
      "Epoch 95/100, D Loss: 0.0160, G Loss: 4.5284\n",
      "Epoch 96/100, D Loss: 0.0532, G Loss: 5.1335\n",
      "Epoch 97/100, D Loss: 0.0170, G Loss: 6.4378\n",
      "Epoch 98/100, D Loss: 0.0598, G Loss: 6.5164\n",
      "Epoch 99/100, D Loss: 0.0025, G Loss: 6.1975\n",
      "Epoch 100/100, D Loss: 0.0615, G Loss: 5.3774\n"
     ]
    }
   ],
   "source": [
    "dataset = EmotionDataset(X, y)\n",
    "dataloader = DataLoader(dataset, batch_size=32, shuffle=True)\n",
    "\n",
    "generator = Generator(noise_dim=100, num_classes=5, feature_dim=X.shape[1])\n",
    "discriminator = Discriminator(num_classes=5, feature_dim=X.shape[1])\n",
    "\n",
    "train_gan(generator, discriminator, dataloader, epochs=100, noise_dim=100, num_classes=5)"
   ]
  },
  {
   "cell_type": "code",
   "execution_count": 12,
   "metadata": {},
   "outputs": [],
   "source": [
    "torch.save(discriminator.state_dict(), \"discriminator_model.pth\")"
   ]
  },
  {
   "cell_type": "code",
   "execution_count": 15,
   "metadata": {},
   "outputs": [
    {
     "name": "stderr",
     "output_type": "stream",
     "text": [
      "C:\\Users\\lenovo\\AppData\\Local\\Temp\\ipykernel_17384\\3396544482.py:2: FutureWarning: You are using `torch.load` with `weights_only=False` (the current default value), which uses the default pickle module implicitly. It is possible to construct malicious pickle data which will execute arbitrary code during unpickling (See https://github.com/pytorch/pytorch/blob/main/SECURITY.md#untrusted-models for more details). In a future release, the default value for `weights_only` will be flipped to `True`. This limits the functions that could be executed during unpickling. Arbitrary objects will no longer be allowed to be loaded via this mode unless they are explicitly allowlisted by the user via `torch.serialization.add_safe_globals`. We recommend you start setting `weights_only=True` for any use case where you don't have full control of the loaded file. Please open an issue on GitHub for any issues related to this experimental feature.\n",
      "  discriminator.load_state_dict(torch.load(\"discriminator_model.pth\"))\n"
     ]
    },
    {
     "name": "stdout",
     "output_type": "stream",
     "text": [
      "The predicted emotion is: happy\n"
     ]
    }
   ],
   "source": [
    "discriminator.load_state_dict(torch.load(\"discriminator_model.pth\"))\n",
    "discriminator.eval()\n",
    "label_encoder = joblib.load(\"label_encoder.pkl\")\n",
    "\n",
    "audio_path = r\"C:\\\\Users\\\\lenovo\\\\Desktop\\\\new\\\\Tamil\\\\TamilAudioSent\\\\final_data\\\\happy\\\\audio_0.wav\"\n",
    "predicted_emotion = predict_emotion_gan(audio_path, discriminator, label_encoder)\n",
    "print(f\"The predicted emotion is: {predicted_emotion}\")"
   ]
  },
  {
   "cell_type": "code",
   "execution_count": null,
   "metadata": {},
   "outputs": [],
   "source": []
  }
 ],
 "metadata": {
  "kernelspec": {
   "display_name": "myenv",
   "language": "python",
   "name": "python3"
  },
  "language_info": {
   "codemirror_mode": {
    "name": "ipython",
    "version": 3
   },
   "file_extension": ".py",
   "mimetype": "text/x-python",
   "name": "python",
   "nbconvert_exporter": "python",
   "pygments_lexer": "ipython3",
   "version": "3.10.15"
  }
 },
 "nbformat": 4,
 "nbformat_minor": 2
}
